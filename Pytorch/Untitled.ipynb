{
 "cells": [
  {
   "cell_type": "code",
   "execution_count": 3,
   "id": "37830c4d-3c71-49dd-a3a8-c1f00fb117e5",
   "metadata": {},
   "outputs": [
    {
     "data": {
      "application/vnd.jupyter.widget-view+json": {
       "model_id": "414ab773742a49499b7f4aa9732717dc",
       "version_major": 2,
       "version_minor": 0
      },
      "text/plain": [
       "Sigma(nx.DiGraph with 747 nodes and 27,541 edges)"
      ]
     },
     "execution_count": 3,
     "metadata": {},
     "output_type": "execute_result"
    }
   ],
   "source": [
    "import networkx as nx\n",
    "from ipysigma import Sigma\n",
    "G=nx.read_gexf(\"medias_Fr_07_23.gexf\")\n",
    "communities=nx.community.louvain_communities(G, resolution=1.2)\n",
    "Sigma(G, node_color=communities, node_size=G.in_degree)"
   ]
  },
  {
   "cell_type": "code",
   "execution_count": null,
   "id": "04a58e23-ed5f-4041-bec1-e54ab29c52f0",
   "metadata": {},
   "outputs": [],
   "source": []
  }
 ],
 "metadata": {
  "kernelspec": {
   "display_name": "Python 3 (ipykernel)",
   "language": "python",
   "name": "python3"
  },
  "language_info": {
   "codemirror_mode": {
    "name": "ipython",
    "version": 3
   },
   "file_extension": ".py",
   "mimetype": "text/x-python",
   "name": "python",
   "nbconvert_exporter": "python",
   "pygments_lexer": "ipython3",
   "version": "3.9.18"
  }
 },
 "nbformat": 4,
 "nbformat_minor": 5
}
